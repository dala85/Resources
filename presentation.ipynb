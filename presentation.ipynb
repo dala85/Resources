{
 "cells": [
  {
   "cell_type": "markdown",
   "metadata": {},
   "source": [
    "<a href=\"https://www.linkedin.com/in/mohammed-dala-ali\"><img src=\"profile.jpg\" width=\"400\" align=\"right\"></a>\n",
    "\n",
    "\n",
    "<h1><center>Helpful resources for your Python and Data Science journey</center></h1>\n",
    "\n",
    "\n",
    "<h4>About this Notebook</h4>\n",
    "In this notebook, you will find some helpful resources for learning Python and Data Science:\n",
    "<p>\n",
    "    \n",
    "* Learning the synatx \n",
    "* Playing games\n",
    "* Connecting the pieces of the puzzle\n",
    "* Learning the Data Science libraries and functions\n",
    "* Prepare for an interview\n",
    "\n",
    "</p>\n",
    "\n",
    "\n"
   ]
  },
  {
   "cell_type": "markdown",
   "metadata": {},
   "source": [
    "<h1>Table of contents</h1>\n",
    "\n",
    "<div class=\"alert alert-block alert-info\" style=\"margin-top: 20px\">\n",
    "    <ol>\n",
    "        <li><a href=\"#Learn the Syntax\">Learn the Syntax</a></li>\n",
    "        <li><a href=\"#Cources\">Cources</a></li>\n",
    "        <li><a href=\"#Practise on your mobile\">Practise on your mobile</a></li>\n",
    "        <li><a href=\"#looking for challenges\">looking for challenges</a></li>\n",
    "        <li><a href=\"#helpful chanells\">helpful chanells</a></li>\n",
    "        <li><a href=\"#it's Game time\">it's Game time</a></li>\n",
    "        <li><a href=\"#Data Science\">Data Science</a></li>\n",
    "        <li><a href=\"#Interview preperation\">Interview preperation</a></li>\n",
    " </ol>\n",
    "</div>\n",
    "<br>\n",
    "<hr>\n",
    "\n",
    "\n"
   ]
  },
  {
   "cell_type": "code",
   "execution_count": 108,
   "metadata": {},
   "outputs": [],
   "source": [
    "from IPython.display import HTML, display"
   ]
  },
  {
   "cell_type": "markdown",
   "metadata": {},
   "source": [
    "<h2 id=\"Learn the Syntax\">Learn the Syntax</h2>\n",
    "\n",
    "\n",
    "## Books\n",
    "\n",
    "* Cooding for kids easy and good at the begining\n",
    "* Begin to code with Python has a downside by using Python version 2 \n",
    "* Python crash cource long book but worth it "
   ]
  },
  {
   "cell_type": "code",
   "execution_count": 109,
   "metadata": {},
   "outputs": [
    {
     "data": {
      "text/html": [
       "<table><tr><td><img src='python_for_kids.jpg'></td><td><img src='begin_code_with_python.jpg'></td><td><img src='python_crash_cource.jpg'></td></tr></table>"
      ],
      "text/plain": [
       "<IPython.core.display.HTML object>"
      ]
     },
     "metadata": {},
     "output_type": "display_data"
    }
   ],
   "source": [
    "display(HTML(\"<table><tr><td><img src='python_for_kids.jpg'></td><td><img src='begin_code_with_python.jpg'></td><td><img src='python_crash_cource.jpg'></td></tr></table>\"))"
   ]
  },
  {
   "cell_type": "markdown",
   "metadata": {},
   "source": [
    "\n",
    "\n",
    "<h2 id=\"Cources \">Cources</h2>\n",
    "\n",
    "* UCSD extension / Python programming fundementals \n",
    "https://extension.ucsd.edu/courses-and-programs/python-programming-fundamentals\n",
    "\n",
    "* Youtube / free code camp\n",
    "https://www.youtube.com/watch?v=rfscVS0vtbw&t=7951s\n",
    "\n",
    "* Udemy / Go from Zero to hero in python 3\n",
    "https://www.udemy.com/share/101W8QBUoeeFtVQ34=/\n",
    "\n",
    "* MIT open cource \n",
    "https://ocw.mit.edu/courses/electrical-engineering-and-computer-science/6-0001-introduction-to-computer-science-and-programming-in-python-fall-2016/lecture-videos/\n",
    "\n"
   ]
  },
  {
   "cell_type": "code",
   "execution_count": 110,
   "metadata": {},
   "outputs": [
    {
     "data": {
      "text/html": [
       "<table><tr><td><img src='ucsd.jpg'></td><td><img src='freecodecamp.jpg'></td></tr></table>"
      ],
      "text/plain": [
       "<IPython.core.display.HTML object>"
      ]
     },
     "metadata": {},
     "output_type": "display_data"
    }
   ],
   "source": [
    "display(HTML(\"<table><tr><td><img src='ucsd.jpg'></td><td><img src='freecodecamp.jpg'></td></tr></table>\"))"
   ]
  },
  {
   "cell_type": "code",
   "execution_count": 111,
   "metadata": {},
   "outputs": [
    {
     "data": {
      "text/html": [
       "<table><tr><td><img src='mit.jpg'></td><td><img src='udemy.jpg'></td></tr></table>"
      ],
      "text/plain": [
       "<IPython.core.display.HTML object>"
      ]
     },
     "metadata": {},
     "output_type": "display_data"
    }
   ],
   "source": [
    "display(HTML(\"<table><tr><td><img src='mit.jpg'></td><td><img src='udemy.jpg'></td></tr></table>\"))"
   ]
  },
  {
   "cell_type": "markdown",
   "metadata": {},
   "source": [
    "\n",
    "<h2 id=\"Practise on your mobile\">Practise on your mobile</h2>\n",
    "\n",
    "* Solo learn \n",
    "https://www.sololearn.com\n",
    "\n",
    "* Code academy \n",
    "https://codecademy.dev\n",
    "\n",
    "* Python2IDE\n",
    "https://apps.apple.com/us/app/python2ide/id984990674\n",
    "\n",
    "\n",
    "\n"
   ]
  },
  {
   "cell_type": "code",
   "execution_count": 112,
   "metadata": {},
   "outputs": [
    {
     "data": {
      "text/html": [
       "<table><tr><td><img src='solo_learn.PNG'></td><td><img src='code_academy.PNG'></td><td><img src='python2ide.PNG'></td></tr></table>"
      ],
      "text/plain": [
       "<IPython.core.display.HTML object>"
      ]
     },
     "metadata": {},
     "output_type": "display_data"
    }
   ],
   "source": [
    "display(HTML(\"<table><tr><td><img src='solo_learn.PNG'></td><td><img src='code_academy.PNG'></td><td><img src='python2ide.PNG'></td></tr></table>\"))"
   ]
  },
  {
   "cell_type": "markdown",
   "metadata": {},
   "source": [
    "<h2 id=\"looking for challenges\">looking for challenges</h2>\n",
    "\n",
    "\n",
    "Solving problems and get ranks \n",
    "\n",
    "* Code wars \n",
    "https://www.codewars.com\n",
    "\n",
    "* Hacker rank \n",
    "https://www.hackerrank.com/dashboard\n",
    "    "
   ]
  },
  {
   "cell_type": "code",
   "execution_count": 113,
   "metadata": {},
   "outputs": [
    {
     "data": {
      "text/html": [
       "<table><tr><td><img src='codewars.png'></td><td><img src='hacker.png'></td></tr></table>"
      ],
      "text/plain": [
       "<IPython.core.display.HTML object>"
      ]
     },
     "metadata": {},
     "output_type": "display_data"
    }
   ],
   "source": [
    "display(HTML(\"<table><tr><td><img src='codewars.png'></td><td><img src='hacker.png'></td></tr></table>\"))"
   ]
  },
  {
   "cell_type": "markdown",
   "metadata": {},
   "source": [
    "\n",
    "\n",
    "<h2 id=\"helpful chanells\">helpful chanells</h2>\n",
    "\n",
    "\n",
    "\n",
    "* Redit \n",
    "https://www.reddit.com\n",
    "\n",
    "* stack over flow \n",
    "https://stackoverflow.com\n",
    "* Git hub \n",
    "https://github.com\n",
    "\n",
    "* W3school \n",
    "https://www.w3schools.com\n",
    "\n",
    "\n",
    "## Cheet sheet \n",
    "\n",
    "https://s3.amazonaws.com/assets.datacamp.com/blog_assets/PythonForDataScience.pdf',\n",
    "https://s3.amazonaws.com/assets.datacamp.com/blog_assets/Numpy_Python_Cheat_Sheet.pdf'"
   ]
  },
  {
   "cell_type": "code",
   "execution_count": 114,
   "metadata": {
    "scrolled": true
   },
   "outputs": [
    {
     "data": {
      "text/html": [
       "<table><tr><td><img src='https://s3.amazonaws.com/assets.datacamp.com/blog_assets/PythonForDataScience.pdf'></td><td><img src='https://s3.amazonaws.com/assets.datacamp.com/blog_assets/Numpy_Python_Cheat_Sheet.pdf'></td></tr></table>"
      ],
      "text/plain": [
       "<IPython.core.display.HTML object>"
      ]
     },
     "metadata": {},
     "output_type": "display_data"
    }
   ],
   "source": [
    "display(HTML(\"<table><tr><td><img src='https://s3.amazonaws.com/assets.datacamp.com/blog_assets/PythonForDataScience.pdf'></td><td><img src='https://s3.amazonaws.com/assets.datacamp.com/blog_assets/Numpy_Python_Cheat_Sheet.pdf'></td></tr></table>\"))"
   ]
  },
  {
   "cell_type": "markdown",
   "metadata": {},
   "source": [
    "\n",
    "\n",
    "<h2 id=\"it's Game time \">it's Game time </h2>\n",
    "\n",
    "\n",
    "Now you know all the syntax and the functions \n",
    "but you don't know how to connect the pieces together ! \n",
    "\n",
    "\n",
    "\n",
    "\n",
    "* Scratch by MIT university and its not for a particular language instead,it's for teaching the programming concept and when to use loops or conditions, etc.\n",
    "https://scratch.mit.edu\n",
    "* Codecombat for Python only \n",
    "https://codecombat.com/play/"
   ]
  },
  {
   "cell_type": "code",
   "execution_count": 115,
   "metadata": {},
   "outputs": [
    {
     "data": {
      "text/html": [
       "<table><tr><td><img src='codecombat.png'></td><td><img src='scratch.png'></td></tr></table>"
      ],
      "text/plain": [
       "<IPython.core.display.HTML object>"
      ]
     },
     "metadata": {},
     "output_type": "display_data"
    }
   ],
   "source": [
    "display(HTML(\"<table><tr><td><img src='codecombat.png'></td><td><img src='scratch.png'></td></tr></table>\"))"
   ]
  },
  {
   "cell_type": "markdown",
   "metadata": {},
   "source": [
    "<h2 id=\"Data Science \">Data Science </h2>\n",
    "\n",
    "\n",
    "\n",
    "\n",
    "\n",
    "* Data Camp. Organize and has an afordable price \n",
    "https://campus.datacamp.com/\n",
    "* Udacity. Expensive but has some free cources \n",
    "https://www.udacity.com/"
   ]
  },
  {
   "cell_type": "code",
   "execution_count": 116,
   "metadata": {},
   "outputs": [
    {
     "data": {
      "text/html": [
       "<table><tr><td><img src='udacity.png'></td><td><img src='datacamp1.png'></td></tr></table>"
      ],
      "text/plain": [
       "<IPython.core.display.HTML object>"
      ]
     },
     "metadata": {},
     "output_type": "display_data"
    }
   ],
   "source": [
    "display(HTML(\"<table><tr><td><img src='udacity.png'></td><td><img src='datacamp1.png'></td></tr></table>\"))"
   ]
  },
  {
   "cell_type": "markdown",
   "metadata": {},
   "source": [
    "<h2 id=\"Interview preperation\">Interview preperation</h2>\n",
    "\n",
    "\n",
    "\n",
    "\n",
    "\n",
    "* Interviewing\n",
    "https://interviewing.io\n",
    "* Triplebyte\n",
    "https://triplebyte.com/\n",
    "* Interviewbit\n",
    "https://www.interviewbit.com/\n",
    "* Letcode\n",
    "https://leetcode.com/\n",
    "\n",
    "\n"
   ]
  },
  {
   "cell_type": "code",
   "execution_count": 117,
   "metadata": {},
   "outputs": [
    {
     "data": {
      "text/html": [
       "<table><tr><td><img src='11.png'></td><td><img src='22.png'></td></tr></table>"
      ],
      "text/plain": [
       "<IPython.core.display.HTML object>"
      ]
     },
     "metadata": {},
     "output_type": "display_data"
    }
   ],
   "source": [
    "display(HTML(\"<table><tr><td><img src='11.png'></td><td><img src='22.png'></td></tr></table>\"))"
   ]
  },
  {
   "cell_type": "code",
   "execution_count": 118,
   "metadata": {
    "scrolled": true
   },
   "outputs": [
    {
     "data": {
      "text/html": [
       "<table><tr><td><img src='33.png'></td><td><img src='44.png'></td></tr></table>"
      ],
      "text/plain": [
       "<IPython.core.display.HTML object>"
      ]
     },
     "metadata": {},
     "output_type": "display_data"
    }
   ],
   "source": [
    "display(HTML(\"<table><tr><td><img src='33.png'></td><td><img src='44.png'></td></tr></table>\"))"
   ]
  },
  {
   "cell_type": "code",
   "execution_count": 125,
   "metadata": {},
   "outputs": [],
   "source": [
    "import pandas as pd \n",
    "resources = [['Udemy','Go from zero to hero ','Online cource'],\n",
    "            ['Data camp','Data Science','Online cource'],\n",
    "            ['Courcera IBM','Data Science','Online cource'],\n",
    "            ['MIT open cource','Python cource','Online cource'],\n",
    "            ['Harvard','CSS50','youtube video'],\n",
    "            ['Stanford','Relational Data Base','Online cource'],\n",
    "            ['Udacity','Data analyst','Online cource'],\n",
    "            ['Michigan University Courcera ','Machine learning','Online cource'],\n",
    "            ['Michigan University Courcera ','Web scraping','Online cource'],\n",
    "            ['Microsoft','Machine learning using Azure','Online material'],\n",
    "            ['Free code camp','pyhton','Youtube video'],\n",
    "            ['Free code camp','Data Science','Youtube video'],\n",
    "            ['Free code camp','Matplotlib','Youtube video'],\n",
    "            ['Free code camp','Data manipulation','Youtube video'],\n",
    "            ['Free code camp','Data visulization','Youtube video'],\n",
    "            ['Microsoft on EDX','pyhton for machine learning','EDX '],\n",
    "            ['Edureka','pyhton','Youtube cource'],\n",
    "            ['Edureka','Data science','Youtube cource'],\n",
    "            ['Corey','pyhton','Youtube channel'],\n",
    "            ['Crash code','pyhton','Youtube video'],\n",
    "            ['Sentdix','pyhton','Youtube video'],\n",
    "            ['Aderian Tacke','Cooding for kids','book'],\n",
    "            ['Microsoft','Begin to code with Pyhthon','book'],\n",
    "            ['Eric Mathew','Python crash cource','book'],\n",
    "            ['Eric Mathew','Automate boring stuff with python','book'],\n",
    "             ['Jake VanderPlas','Python Dara Science','book'],\n",
    "             ['Jason Briggs','python for kids','book'],\n",
    "             ['Gayle Laakmann','Cracking the coding interview','book'],\n",
    "             ['Dummies','Data Science Dummies','book'],\n",
    "             ['Dr.Chunk','Python for everybody ','Youtube cource'],\n",
    "             ['Solo learn','Learn python','Mobile app'],\n",
    "             ['Solo learn','Learn SQL','Mobile app'],\n",
    "             ['Codeacademy','Learn python','Mobile app'],\n",
    "             ['MIMO','Learn python','Mobile app'],\n",
    "             ['Linkedin ','python fundemental','online cource '],\n",
    "             ['Linkedin ','Object orienated programming','online cource '],\n",
    "             ['Linkedin ','Advance python','online cource ']\n",
    "             \n",
    "             \n",
    "            ]"
   ]
  },
  {
   "cell_type": "code",
   "execution_count": 126,
   "metadata": {},
   "outputs": [],
   "source": [
    "df= pd.DataFrame(resources)"
   ]
  },
  {
   "cell_type": "code",
   "execution_count": 122,
   "metadata": {},
   "outputs": [
    {
     "data": {
      "text/html": [
       "<div>\n",
       "<style scoped>\n",
       "    .dataframe tbody tr th:only-of-type {\n",
       "        vertical-align: middle;\n",
       "    }\n",
       "\n",
       "    .dataframe tbody tr th {\n",
       "        vertical-align: top;\n",
       "    }\n",
       "\n",
       "    .dataframe thead th {\n",
       "        text-align: right;\n",
       "    }\n",
       "</style>\n",
       "<table border=\"1\" class=\"dataframe\">\n",
       "  <thead>\n",
       "    <tr style=\"text-align: right;\">\n",
       "      <th></th>\n",
       "      <th>0</th>\n",
       "      <th>1</th>\n",
       "      <th>2</th>\n",
       "    </tr>\n",
       "  </thead>\n",
       "  <tbody>\n",
       "    <tr>\n",
       "      <th>0</th>\n",
       "      <td>Udemy</td>\n",
       "      <td>Go from zero to hero</td>\n",
       "      <td>Online cource</td>\n",
       "    </tr>\n",
       "    <tr>\n",
       "      <th>1</th>\n",
       "      <td>Data camp</td>\n",
       "      <td>Data Science</td>\n",
       "      <td>Online cource</td>\n",
       "    </tr>\n",
       "    <tr>\n",
       "      <th>2</th>\n",
       "      <td>Courcera IBM</td>\n",
       "      <td>Data Science</td>\n",
       "      <td>Online cource</td>\n",
       "    </tr>\n",
       "    <tr>\n",
       "      <th>3</th>\n",
       "      <td>MIT open cource</td>\n",
       "      <td>Python cource</td>\n",
       "      <td>Online cource</td>\n",
       "    </tr>\n",
       "    <tr>\n",
       "      <th>4</th>\n",
       "      <td>Harvard</td>\n",
       "      <td>CSS50</td>\n",
       "      <td>youtube video</td>\n",
       "    </tr>\n",
       "    <tr>\n",
       "      <th>5</th>\n",
       "      <td>Stanford</td>\n",
       "      <td>Relational Data Base</td>\n",
       "      <td>Online cource</td>\n",
       "    </tr>\n",
       "    <tr>\n",
       "      <th>6</th>\n",
       "      <td>Udacity</td>\n",
       "      <td>Data analyst</td>\n",
       "      <td>Online cource</td>\n",
       "    </tr>\n",
       "    <tr>\n",
       "      <th>7</th>\n",
       "      <td>Michigan University Courcera</td>\n",
       "      <td>Machine learning</td>\n",
       "      <td>Online cource</td>\n",
       "    </tr>\n",
       "    <tr>\n",
       "      <th>8</th>\n",
       "      <td>Michigan University Courcera</td>\n",
       "      <td>Web scraping</td>\n",
       "      <td>Online cource</td>\n",
       "    </tr>\n",
       "    <tr>\n",
       "      <th>9</th>\n",
       "      <td>Microsoft</td>\n",
       "      <td>Machine learning using Azure</td>\n",
       "      <td>Online material</td>\n",
       "    </tr>\n",
       "    <tr>\n",
       "      <th>10</th>\n",
       "      <td>Free code camp</td>\n",
       "      <td>pyhton</td>\n",
       "      <td>Youtube video</td>\n",
       "    </tr>\n",
       "    <tr>\n",
       "      <th>11</th>\n",
       "      <td>Free code camp</td>\n",
       "      <td>Data Science</td>\n",
       "      <td>Youtube video</td>\n",
       "    </tr>\n",
       "    <tr>\n",
       "      <th>12</th>\n",
       "      <td>Free code camp</td>\n",
       "      <td>Matplotlib</td>\n",
       "      <td>Youtube video</td>\n",
       "    </tr>\n",
       "    <tr>\n",
       "      <th>13</th>\n",
       "      <td>Free code camp</td>\n",
       "      <td>Data manipulation</td>\n",
       "      <td>Youtube video</td>\n",
       "    </tr>\n",
       "    <tr>\n",
       "      <th>14</th>\n",
       "      <td>Free code camp</td>\n",
       "      <td>Data visulization</td>\n",
       "      <td>Youtube video</td>\n",
       "    </tr>\n",
       "    <tr>\n",
       "      <th>15</th>\n",
       "      <td>Microsoft on EDX</td>\n",
       "      <td>pyhton for machine learning</td>\n",
       "      <td>EDX</td>\n",
       "    </tr>\n",
       "    <tr>\n",
       "      <th>16</th>\n",
       "      <td>Edureka</td>\n",
       "      <td>pyhton</td>\n",
       "      <td>Youtube cource</td>\n",
       "    </tr>\n",
       "    <tr>\n",
       "      <th>17</th>\n",
       "      <td>Edureka</td>\n",
       "      <td>Data science</td>\n",
       "      <td>Youtube cource</td>\n",
       "    </tr>\n",
       "    <tr>\n",
       "      <th>18</th>\n",
       "      <td>Corey</td>\n",
       "      <td>pyhton</td>\n",
       "      <td>Youtube channel</td>\n",
       "    </tr>\n",
       "    <tr>\n",
       "      <th>19</th>\n",
       "      <td>Crash code</td>\n",
       "      <td>pyhton</td>\n",
       "      <td>Youtube video</td>\n",
       "    </tr>\n",
       "    <tr>\n",
       "      <th>20</th>\n",
       "      <td>Sentdix</td>\n",
       "      <td>pyhton</td>\n",
       "      <td>Youtube video</td>\n",
       "    </tr>\n",
       "  </tbody>\n",
       "</table>\n",
       "</div>"
      ],
      "text/plain": [
       "                                0                             1  \\\n",
       "0                           Udemy         Go from zero to hero    \n",
       "1                       Data camp                  Data Science   \n",
       "2                    Courcera IBM                  Data Science   \n",
       "3                 MIT open cource                 Python cource   \n",
       "4                         Harvard                         CSS50   \n",
       "5                        Stanford          Relational Data Base   \n",
       "6                         Udacity                  Data analyst   \n",
       "7   Michigan University Courcera               Machine learning   \n",
       "8   Michigan University Courcera                   Web scraping   \n",
       "9                       Microsoft  Machine learning using Azure   \n",
       "10                 Free code camp                        pyhton   \n",
       "11                 Free code camp                  Data Science   \n",
       "12                 Free code camp                    Matplotlib   \n",
       "13                 Free code camp             Data manipulation   \n",
       "14                 Free code camp             Data visulization   \n",
       "15               Microsoft on EDX   pyhton for machine learning   \n",
       "16                        Edureka                        pyhton   \n",
       "17                        Edureka                  Data science   \n",
       "18                          Corey                        pyhton   \n",
       "19                     Crash code                        pyhton   \n",
       "20                        Sentdix                        pyhton   \n",
       "\n",
       "                  2  \n",
       "0     Online cource  \n",
       "1     Online cource  \n",
       "2     Online cource  \n",
       "3     Online cource  \n",
       "4     youtube video  \n",
       "5     Online cource  \n",
       "6     Online cource  \n",
       "7     Online cource  \n",
       "8     Online cource  \n",
       "9   Online material  \n",
       "10    Youtube video  \n",
       "11    Youtube video  \n",
       "12    Youtube video  \n",
       "13    Youtube video  \n",
       "14    Youtube video  \n",
       "15             EDX   \n",
       "16   Youtube cource  \n",
       "17   Youtube cource  \n",
       "18  Youtube channel  \n",
       "19    Youtube video  \n",
       "20    Youtube video  "
      ]
     },
     "execution_count": 122,
     "metadata": {},
     "output_type": "execute_result"
    }
   ],
   "source": [
    "df"
   ]
  },
  {
   "cell_type": "code",
   "execution_count": null,
   "metadata": {},
   "outputs": [],
   "source": []
  }
 ],
 "metadata": {
  "kernelspec": {
   "display_name": "Python 3",
   "language": "python",
   "name": "python3"
  },
  "language_info": {
   "codemirror_mode": {
    "name": "ipython",
    "version": 3
   },
   "file_extension": ".py",
   "mimetype": "text/x-python",
   "name": "python",
   "nbconvert_exporter": "python",
   "pygments_lexer": "ipython3",
   "version": "3.7.5"
  }
 },
 "nbformat": 4,
 "nbformat_minor": 2
}
